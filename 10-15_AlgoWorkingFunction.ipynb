{
 "cells": [
  {
   "cell_type": "code",
   "execution_count": 2,
   "metadata": {},
   "outputs": [],
   "source": [
    "# RWalker Oct. 15 Chord Candy Prototype Update\n",
    "import os\n",
    "import glob\n",
    "import numpy as np\n",
    "import matplotlib.pyplot as plt\n",
    "import math\n",
    "from nested_lookup import nested_lookup\n",
    "import json\n",
    "from music21 import *"
   ]
  },
  {
   "cell_type": "code",
   "execution_count": 3,
   "metadata": {},
   "outputs": [],
   "source": [
    "# Load in dictionary for use\n",
    "\n",
    "with open('chordDictionary.json', 'r') as dictOpen:\n",
    "    nameToNum = json.load(dictOpen)"
   ]
  },
  {
   "cell_type": "code",
   "execution_count": 4,
   "metadata": {},
   "outputs": [],
   "source": [
    "# Splits a 6 digit triad input input into individual note values\n",
    "def chordIntSplit (chordInt, interval=2):\n",
    "    chordInt = str(chordInt)\n",
    "    split = np.array([])\n",
    "    for k in range(0, len(chordInt), interval):\n",
    "        split = np.append(split, int(chordInt[k:k + interval]))\n",
    "    return split.astype(int)\n",
    "\n",
    "\n",
    "# Reverses chordIntSplit, will combine the individual note values back into a single integer\n",
    "def chordIntCombine (input):\n",
    "    combine = int(str(input[0]) + str(input[1]) + str(input[2]))\n",
    "    return combine"
   ]
  },
  {
   "cell_type": "code",
   "execution_count": 5,
   "metadata": {},
   "outputs": [
    {
     "name": "stdout",
     "output_type": "stream",
     "text": [
      "Input Notes:  [48 53 57]\n",
      "Output Notes:  [50 53 58]\n",
      "Magnitude of Change:  3 Semitones\n",
      "Input Chord Name:  F Major 2nd Inversion\n",
      "Destination Chord Name:  A#/Bb Major 1st Inversion\n"
     ]
    }
   ],
   "source": [
    "# Starting chord input: \n",
    "inputChord = 'F Major 2nd Inversion'\n",
    "inputNum = nested_lookup(inputChord, nameToNum)\n",
    "inputSplit = np.array(chordIntSplit(inputNum[0]))\n",
    "# Print out MIDI numbers from user input\n",
    "#print(inputSplit)\n",
    "\n",
    "destinationChord = 'A#/Bb Major'\n",
    "destinationChord = destinationChord.replace(\"b\", \"-\")\n",
    "destinationNums = nested_lookup(key = destinationChord, document = nameToNum, wild = True, with_keys= False)\n",
    "#print(destinationNums)\n",
    "\n",
    "lookupArray = np.zeros(9)\n",
    "magArray = np.zeros(9)\n",
    "nameArray = np.zeros(9, dtype=object)\n",
    "num = 0\n",
    "\n",
    "# Make list of inversions\n",
    "for n in destinationNums[0]:\n",
    "    #print(str(n))\n",
    "    nIndex = num*3\n",
    "    nameArray[nIndex:(nIndex+3)] = n\n",
    "    num = num+1\n",
    "\n",
    "for n in range(0, len(destinationNums)-1):\n",
    "    arrayIndex = n*3\n",
    "    # Split destination chord into separate note values for comparison\n",
    "    destTest = np.array(chordIntSplit(destinationNums[n+1]))\n",
    "    lookupArray[arrayIndex] = chordIntCombine(destTest)\n",
    "    magArray[arrayIndex] = np.sum(np.abs(destTest - inputSplit))\n",
    "    #print(destTest)\n",
    "\n",
    "    # Look at octave above and octave below\n",
    "    upOct = destTest + 12\n",
    "    lookupArray[arrayIndex+1] = chordIntCombine(upOct)\n",
    "    magArray[arrayIndex+1] = np.sum(np.abs(upOct - inputSplit))\n",
    "    #print(upOct)\n",
    "    downOct = destTest - 12\n",
    "    \n",
    "    lookupArray[arrayIndex+2] = chordIntCombine(downOct)\n",
    "    magArray[arrayIndex+2] = np.sum(np.abs(downOct - inputSplit))\n",
    "    #print(downOct)\n",
    "\n",
    "combArr = np.column_stack((magArray, nameArray))\n",
    "\n",
    "minVal = np.argmin(magArray)\n",
    "destinationName = combArr[minVal][1]\n",
    "destinationName = destinationName.replace(\"-\", \"b\")\n",
    "outputSplit = chordIntSplit(int(lookupArray[minVal]))\n",
    "\n",
    "\n",
    "print(\"Input Notes: \", inputSplit.astype(int))\n",
    "print(\"Output Notes: \", outputSplit.astype(int))\n",
    "print(\"Magnitude of Change: \", int(combArr[minVal][0]), \"Semitones\")\n",
    "print(\"Input Chord Name: \", inputChord)\n",
    "print(\"Destination Chord Name: \", destinationName)"
   ]
  },
  {
   "cell_type": "code",
   "execution_count": 6,
   "metadata": {},
   "outputs": [],
   "source": [
    "def getBestInversion(inChord, destChord):\n",
    "    if type(inChord) is str:\n",
    "        r = nested_lookup(inChord, nameToNum)\n",
    "        try:\n",
    "            inputNum = r[0]\n",
    "        except IndexError:\n",
    "            z = 'inChord has an invalid string (string is case sensitive)'\n",
    "            return z\n",
    "    elif type(inChord) is int:\n",
    "        if len(str(inChord)) != 6:\n",
    "            z = 'inChord vector spelling requires a six digit integer'\n",
    "            return z\n",
    "        else:\n",
    "            inputNum = inChord\n",
    "    else:\n",
    "        z = 'inChord must be a chord vector integer or a string with a chord name found within nameToNum'\n",
    "        return z\n",
    "    try:\n",
    "        inputSplit = np.array(chordIntSplit(inputNum))\n",
    "    except ValueError:\n",
    "        z = 'inChord taken as a string must include note, type, and inversion'\n",
    "        return z\n",
    "    # print(inputSplit)\n",
    "    if type(destChord) is str:\n",
    "        pass\n",
    "    else:\n",
    "        z = 'destChord must be a string, note name followed by quality'\n",
    "        return z\n",
    "    destChord = destChord.replace(\"b\", \"-\")\n",
    "    destNums = nested_lookup(key = destChord, document = nameToNum, wild = True, with_keys= False)\n",
    "\n",
    "    lookupArray = np.zeros(9)\n",
    "    magArray = np.zeros(9)\n",
    "    nameArray = np.zeros(9, dtype=object)\n",
    "    num = 0\n",
    "\n",
    "    #Make list of inversions\n",
    "    for n in destNums[0]:\n",
    "        nIndex = num*3\n",
    "        nameArray[nIndex:(nIndex+3)] = n\n",
    "        num += 1\n",
    "\n",
    "    for n in range(0, len(destNums)-1):\n",
    "        arrayIndex = n*3\n",
    "        # Split destination chord into separate note values for comparison\n",
    "        destTest = np.array(chordIntSplit(destNums[n+1]))\n",
    "        lookupArray[arrayIndex] = chordIntCombine(destTest)\n",
    "        magArray[arrayIndex] = np.sum(np.abs(destTest - inputSplit))\n",
    "\n",
    "    # Look at octave above and octave below\n",
    "        upOct = destTest + 12\n",
    "        lookupArray[arrayIndex+1] = chordIntCombine(upOct)\n",
    "        magArray[arrayIndex+1] = np.sum(np.abs(upOct - inputSplit))\n",
    "        \n",
    "        downOct = destTest - 12\n",
    "        lookupArray[arrayIndex+2] = chordIntCombine(downOct)\n",
    "        magArray[arrayIndex+2] = np.sum(np.abs(downOct - inputSplit))\n",
    "\n",
    "\n",
    "    combArr = np.column_stack((magArray, nameArray))\n",
    "\n",
    "    minVal = np.argmin(magArray)\n",
    "    destinationName = combArr[minVal][1]\n",
    "    destinationName = destinationName.replace(\"-\", \"b\")\n",
    "    outputSplit = chordIntSplit(int(lookupArray[minVal]))\n",
    "    magnitudeCalc = int(combArr[minVal][0])\n",
    "\n",
    "    outputPitch = np.array([], dtype=str)\n",
    "    for i in range(len(outputSplit)):\n",
    "        np.append(outputPitch, str(pitch.Pitch(outputSplit.astype(int)[i])))\n",
    "\n",
    "    print(\"Input Notes: \", inputSplit)\n",
    "    print(\"Output Notes: \", outputSplit)\n",
    "    print(\"Magnitude of Change: \", magnitudeCalc, \"Semitone(s)\")\n",
    "    if type(inChord) is str:\n",
    "        print(\"Input Chord Name: \", inChord)\n",
    "    else:\n",
    "        ic = 'TRY TO FIND THE CHORD IN THE DICTIONARY HERE'\n",
    "    print(\"Destination Chord Name: \", destinationName)\n",
    "    return destinationName, outputSplit.tolist(), magnitudeCalc, outputPitch\n",
    "\n"
   ]
  },
  {
   "cell_type": "code",
   "execution_count": 7,
   "metadata": {},
   "outputs": [
    {
     "name": "stdout",
     "output_type": "stream",
     "text": [
      "Input Notes:  [50 54 58]\n",
      "Output Notes:  [49 54 58]\n",
      "Magnitude of Change:  1 Semitone(s)\n",
      "Input Chord Name:  D Augmented Root Position\n",
      "Destination Chord Name:  F#/Gb Major 2nd Inversion\n",
      "('F#/Gb Major 2nd Inversion', [49, 54, 58], 1, array([], dtype='<U1'))\n"
     ]
    }
   ],
   "source": [
    "x = getBestInversion('D Augmented Root Position','F#/Gb Major')\n",
    "print(x)"
   ]
  },
  {
   "cell_type": "code",
   "execution_count": 8,
   "metadata": {},
   "outputs": [
    {
     "name": "stdout",
     "output_type": "stream",
     "text": [
      "('F#/Gb Major 2nd Inversion', [49, 54, 58], 1, array([], dtype='<U1'))\n"
     ]
    }
   ],
   "source": [
    "print(x)"
   ]
  },
  {
   "cell_type": "code",
   "execution_count": 9,
   "metadata": {},
   "outputs": [
    {
     "name": "stdout",
     "output_type": "stream",
     "text": [
      "C#4\n"
     ]
    }
   ],
   "source": [
    "x = pitch.Pitch(61)\n",
    "print(x)"
   ]
  },
  {
   "cell_type": "code",
   "execution_count": 10,
   "metadata": {},
   "outputs": [],
   "source": [
    "outputPitch = np.array([], dtype=str)\n",
    "for i in range(len(outputSplit)):\n",
    "    np.append(outputPitch, str(pitch.Pitch(outputSplit.astype(int)[i])))"
   ]
  },
  {
   "cell_type": "code",
   "execution_count": 11,
   "metadata": {},
   "outputs": [
    {
     "data": {
      "text/plain": [
       "<music21.pitch.Pitch F3>"
      ]
     },
     "execution_count": 11,
     "metadata": {},
     "output_type": "execute_result"
    }
   ],
   "source": [
    "pitch.Pitch(int(outputSplit[1]))"
   ]
  },
  {
   "cell_type": "code",
   "execution_count": 12,
   "metadata": {},
   "outputs": [
    {
     "data": {
      "text/plain": [
       "array([50, 53, 58])"
      ]
     },
     "execution_count": 12,
     "metadata": {},
     "output_type": "execute_result"
    }
   ],
   "source": [
    "outputSplit.astype(int)"
   ]
  },
  {
   "cell_type": "code",
   "execution_count": 13,
   "metadata": {},
   "outputs": [
    {
     "data": {
      "text/plain": [
       "array([], dtype='<U1')"
      ]
     },
     "execution_count": 13,
     "metadata": {},
     "output_type": "execute_result"
    }
   ],
   "source": [
    "outputPitch"
   ]
  },
  {
   "cell_type": "code",
   "execution_count": null,
   "metadata": {},
   "outputs": [],
   "source": []
  }
 ],
 "metadata": {
  "interpreter": {
   "hash": "01cfeb008899ac1fc92bcda426c952cdfa0d6dcb6ec76912d607531e950872cc"
  },
  "kernelspec": {
   "display_name": "Python 3.7.9 64-bit",
   "name": "python3"
  },
  "language_info": {
   "codemirror_mode": {
    "name": "ipython",
    "version": 3
   },
   "file_extension": ".py",
   "mimetype": "text/x-python",
   "name": "python",
   "nbconvert_exporter": "python",
   "pygments_lexer": "ipython3",
   "version": "3.7.9"
  },
  "orig_nbformat": 4
 },
 "nbformat": 4,
 "nbformat_minor": 2
}
