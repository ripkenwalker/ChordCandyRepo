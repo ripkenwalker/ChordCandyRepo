{
 "cells": [
  {
   "cell_type": "code",
   "execution_count": 1,
   "metadata": {},
   "outputs": [],
   "source": [
    "# RWalker Oct. 15 Chord Candy Prototype Update\n",
    "import os\n",
    "import glob\n",
    "import numpy as np\n",
    "import matplotlib.pyplot as plt\n",
    "import math\n",
    "from nested_lookup import nested_lookup\n",
    "import json\n",
    "from music21 import *"
   ]
  },
  {
   "cell_type": "code",
   "execution_count": 2,
   "metadata": {},
   "outputs": [],
   "source": [
    "# Load in dictionary for use\n",
    "\n",
    "with open('chordDictionary.json', 'r') as dictOpen:\n",
    "    nameToNum = json.load(dictOpen)"
   ]
  },
  {
   "cell_type": "code",
   "execution_count": 3,
   "metadata": {},
   "outputs": [],
   "source": [
    "# Splits a 6 digit triad input input into individual note values\n",
    "def chordIntSplit (chordInt, interval=2):\n",
    "    chordInt = str(chordInt)\n",
    "    split = np.array([])\n",
    "    for k in range(0, len(chordInt), interval):\n",
    "        split = np.append(split, int(chordInt[k:k + interval]))\n",
    "    return split.astype(int)\n",
    "\n",
    "\n",
    "# Reverses chordIntSplit, will combine the individual note values back into a single integer\n",
    "def chordIntCombine (input):\n",
    "    combine = int(str(input[0]) + str(input[1]) + str(input[2]))\n",
    "    return combine"
   ]
  },
  {
   "cell_type": "code",
   "execution_count": 4,
   "metadata": {},
   "outputs": [],
   "source": [
    "def getBestInversion(inChord, destChord):\n",
    "    if type(inChord) is str:\n",
    "        r = nested_lookup(inChord, nameToNum)\n",
    "        try:\n",
    "            inputNum = r[0]\n",
    "        except IndexError:\n",
    "            z = 'inChord has an invalid string (string is case sensitive)'\n",
    "            return z\n",
    "    elif type(inChord) is int:\n",
    "        if len(str(inChord)) != 6:\n",
    "            z = 'inChord vector spelling requires a six digit integer'\n",
    "            return z\n",
    "        else:\n",
    "            inputNum = inChord\n",
    "    else:\n",
    "        z = 'inChord must be a chord vector integer or a string with a chord name found within nameToNum'\n",
    "        return z\n",
    "    try:\n",
    "        inputSplit = np.array(chordIntSplit(inputNum))\n",
    "    except ValueError:\n",
    "        z = 'inChord taken as a string must include note, type, and inversion'\n",
    "        return z\n",
    "    # print(inputSplit)\n",
    "    if type(destChord) is str:\n",
    "        pass\n",
    "    else:\n",
    "        z = 'destChord must be a string, note name followed by quality'\n",
    "        return z\n",
    "    destChord = destChord.replace(\"b\", \"-\")\n",
    "    destNums = nested_lookup(key = destChord, document = nameToNum, wild = True, with_keys= False)\n",
    "\n",
    "    # Initialize arrays\n",
    "    lookupArray = np.zeros(9)\n",
    "    magArray = np.zeros(9)\n",
    "    nameArray = np.zeros(9, dtype=object)\n",
    "    num = 0\n",
    "\n",
    "    # Make list of inversions\n",
    "    for n in destNums[0]:\n",
    "        nIndex = num*3\n",
    "        nameArray[nIndex:(nIndex+3)] = n\n",
    "        num += 1\n",
    "\n",
    "    for n in range(0, len(destNums)-1):\n",
    "        arrayIndex = n*3\n",
    "        # Split destination chord into separate note values for comparison\n",
    "        destTest = np.array(chordIntSplit(destNums[n+1]))\n",
    "        lookupArray[arrayIndex] = chordIntCombine(destTest)\n",
    "        magArray[arrayIndex] = np.sum(np.abs(destTest - inputSplit))\n",
    "\n",
    "    # Look at octave above and octave below\n",
    "        upOct = destTest + 12\n",
    "        lookupArray[arrayIndex+1] = chordIntCombine(upOct)\n",
    "        magArray[arrayIndex+1] = np.sum(np.abs(upOct - inputSplit))\n",
    "        \n",
    "        downOct = destTest - 12\n",
    "        lookupArray[arrayIndex+2] = chordIntCombine(downOct)\n",
    "        magArray[arrayIndex+2] = np.sum(np.abs(downOct - inputSplit))\n",
    "\n",
    "    # Combines the names with the corresponding magnitude calculation\n",
    "    combArr = np.column_stack((magArray, nameArray))\n",
    "\n",
    "    # Finds the index of the smallest magnitude of change\n",
    "    minVal = np.argmin(magArray)\n",
    "\n",
    "    # Finds the chord name for the smallest magnitude\n",
    "    destinationName = combArr[minVal][1]\n",
    "    # Replace dash in dictionary name with more readable \"b\" \n",
    "    destinationName = destinationName.replace(\"-\", \"b\")\n",
    "    # Find chord string of output\n",
    "    outputCode = int(lookupArray[minVal])\n",
    "    # Split the output into three separate note values\n",
    "    outputSplit = chordIntSplit(outputCode)\n",
    "    # Assign the minimum value of magnitude change to variable for function output\n",
    "    magnitudeCalc = int(combArr[minVal][0])\n",
    "\n",
    "    if magnitudeCalc == 1:\n",
    "        magnitudeCalc = str('1 Semitone')\n",
    "    else:\n",
    "        magnitudeCalc = str(magnitudeCalc) + \" Semitones\"\n",
    "\n",
    "    # Convert MIDI note numbers to Scientific Pitch Notation (ex. 60 -> C4)\n",
    "    outputPitch = np.zeros([len(outputSplit)], dtype=object)\n",
    "    for i in range(len(outputSplit)):\n",
    "        convert = str(pitch.Pitch(outputSplit.astype(int)[i]))\n",
    "        outputPitch[i] = convert.replace(\"-\", \"b\")\n",
    "\n",
    "    #print(\"Input Notes: \", inputSplit)\n",
    "    #print(\"Output Notes: \", outputSplit)\n",
    "    #print(\"Magnitude of Change: \", magnitudeCalc, \"Semitone(s)\")\n",
    "    #if type(inChord) is str:\n",
    "    #    print(\"Input Chord Name: \", inChord)\n",
    "    #else:\n",
    "    #    ic = 'TRY TO FIND THE CHORD IN THE DICTIONARY HERE'\n",
    "    #print(\"Destination Chord Name: \", destinationName)\n",
    "\n",
    "\n",
    "              \n",
    "    return inChord, destinationName, outputCode, outputSplit.tolist(), outputPitch.tolist(), magnitudeCalc\n",
    "\n"
   ]
  },
  {
   "cell_type": "code",
   "execution_count": null,
   "metadata": {},
   "outputs": [],
   "source": [
    "outputDict = {'destinationName': destinationName,\n",
    "              'destinationMIDI': outputSplit.tolist(),\n",
    "              'destinationSci': outputPitch.tolist(),\n",
    "              'destinationMag': magnitudeCalc}"
   ]
  },
  {
   "cell_type": "code",
   "execution_count": 8,
   "metadata": {},
   "outputs": [
    {
     "name": "stdout",
     "output_type": "stream",
     "text": [
      "Input Notes:  [52 56 61]\n",
      "Output Notes:  [51 57 60]\n"
     ]
    }
   ],
   "source": [
    "userInput = 'C#/Db Minor 1st Inversion'\n",
    "userInput = userInput.replace(\"b\", \"-\")\n",
    "userDestination = 'A Diminished'\n",
    "\n",
    "# Call entire function\n",
    "fullOut = getBestInversion(userInput, userDestination)\n",
    "\n",
    "with open('algOutput.json', 'w') as outWrite:\n",
    "    json.dump(fullOut, outWrite)"
   ]
  },
  {
   "cell_type": "code",
   "execution_count": 9,
   "metadata": {},
   "outputs": [
    {
     "name": "stdout",
     "output_type": "stream",
     "text": [
      "Algorithm Output:\n",
      "\n"
     ]
    },
    {
     "data": {
      "text/plain": [
       "{'destinationName': 'A Diminished 2nd Inversion',\n",
       " 'destinationMIDI': [51, 57, 60],\n",
       " 'destinationSci': ['Eb3', 'A3', 'C4'],\n",
       " 'destinationMag': '3 Semitones'}"
      ]
     },
     "execution_count": 9,
     "metadata": {},
     "output_type": "execute_result"
    }
   ],
   "source": [
    "print(\"Algorithm Output:\")\n",
    "print()\n",
    "fullOut"
   ]
  }
 ],
 "metadata": {
  "interpreter": {
   "hash": "8edf31b87f67b6ee633ddb88a2a6122a753fb19450459683d0a9ec78e3773dc3"
  },
  "kernelspec": {
   "display_name": "Python 3.7.9 64-bit",
   "name": "python3"
  },
  "language_info": {
   "codemirror_mode": {
    "name": "ipython",
    "version": 3
   },
   "file_extension": ".py",
   "mimetype": "text/x-python",
   "name": "python",
   "nbconvert_exporter": "python",
   "pygments_lexer": "ipython3",
   "version": "3.7.9"
  },
  "orig_nbformat": 4
 },
 "nbformat": 4,
 "nbformat_minor": 2
}
