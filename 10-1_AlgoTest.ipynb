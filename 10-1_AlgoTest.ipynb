{
 "cells": [
  {
   "cell_type": "code",
   "execution_count": 41,
   "source": [
    "# RWalker Oct. 1 Chord Candy Prototype\r\n",
    "import os\r\n",
    "import glob\r\n",
    "import numpy as np\r\n",
    "import matplotlib.pyplot as plt\r\n",
    "import math"
   ],
   "outputs": [],
   "metadata": {}
  },
  {
   "cell_type": "code",
   "execution_count": 8,
   "source": [
    "# Chord Candy Dictionary Test\r\n",
    "from nested_lookup import nested_lookup\r\n",
    "\r\n",
    "print(\"-\")\r\n",
    "print(\"-\")\r\n",
    "# Creating an empty Dictionary\r\n",
    "numToName = {'C': \r\n",
    "                {'C Major': {\r\n",
    "                    606467: 'C Major Root Position', \r\n",
    "                    646760: 'C Major 1st Inversion', \r\n",
    "                    676064: 'C Major 2nd Inversion'},\r\n",
    "                },\r\n",
    "            'F':\r\n",
    "                {'F Minor': {\r\n",
    "                    656860: 'F Minor Root Position',\r\n",
    "                    686065: 'F Minor 1st Inversion',\r\n",
    "                    606568: 'F Minor 2nd Inversion',\r\n",
    "                }}\r\n",
    "            }  \r\n",
    "\r\n",
    "nameToNum = {'C': \r\n",
    "                {'C Major': {\r\n",
    "                    'C Major Root Position': 606467, \r\n",
    "                    'C Major 1st Inversion': 646772, \r\n",
    "                    'C Major 2nd Inversion': 677276},\r\n",
    "                },\r\n",
    "            'F':\r\n",
    "                {'F Minor': {\r\n",
    "                    'F Minor Root Position': 656872,\r\n",
    "                    'F Minor 1st Inversion': 566065,\r\n",
    "                    'F Minor 2nd Inversion': 606568,\r\n",
    "                }}\r\n",
    "            }  \r\n",
    "#print(\"Empty Dictionary: \")\r\n",
    "#print(chordDict['C']['C Major'][606467])\r\n",
    "#choice = chordDict.get('C', {}).get('C Major', {}).get(606467)\r\n",
    "\r\n",
    "print(nested_lookup('C Major', chordDict))\r\n",
    "\r\n",
    "#print(choice)"
   ],
   "outputs": [
    {
     "output_type": "stream",
     "name": "stdout",
     "text": [
      "-\n",
      "-\n",
      "[{606467: 'C Major Root Position', 646772: 'C Major 1st Inversion', 677276: 'C Major 2nd Inversion'}]\n"
     ]
    }
   ],
   "metadata": {}
  },
  {
   "cell_type": "code",
   "execution_count": 105,
   "source": [
    "# Starting chord input: \r\n",
    "inputChord = 'C Major 2nd Inversion'\r\n",
    "inputNum = nested_lookup(inputChord, nameToNum)\r\n",
    "inputSplit = np.array(chordIntSplit(inputNum[0]))\r\n",
    "# Print out MIDI numbers from user input\r\n",
    "print(inputSplit)"
   ],
   "outputs": [
    {
     "output_type": "stream",
     "name": "stdout",
     "text": [
      "[67 72 76]\n"
     ]
    }
   ],
   "metadata": {}
  },
  {
   "cell_type": "code",
   "execution_count": 101,
   "source": [
    "# Splits a 6 digit triad input input into individual note values\r\n",
    "def chordIntSplit (chordInt, interval=2):\r\n",
    "    chordInt = str(chordInt)\r\n",
    "    split = []\r\n",
    "    for k in range(0, len(chordInt), interval):\r\n",
    "        split.append(int(chordInt[k:k + interval]))\r\n",
    "    return split\r\n",
    "\r\n",
    "\r\n",
    "# Reverses chordIntSplit, will combine the individual note values back into a single integer\r\n",
    "def chordIntCombine (input):\r\n",
    "    combine = int(str(int(input[0])) + str(int(input[1])) + str(int(input[2])))\r\n",
    "    return combine"
   ],
   "outputs": [],
   "metadata": {}
  },
  {
   "cell_type": "code",
   "execution_count": 110,
   "source": [
    "destinationChord = 'F Minor'\r\n",
    "destinationNums = nested_lookup(key = destinationChord, document = nameToNum, wild = True, with_keys= False)\r\n",
    "\r\n",
    "\r\n",
    "for n in range(0, len(destinationNums)-1):\r\n",
    "    # Split destination chord into separate note values for comparison\r\n",
    "    destTest = np.array(chordIntSplit(destinationNums[n+1]))\r\n",
    "    print(destTest)\r\n",
    "\r\n",
    "    # Look at octave above and octave below\r\n",
    "    upOct = destTest + 12\r\n",
    "    print(upOct)\r\n",
    "    downOct = destTest - 12\r\n",
    "    print(downOct)\r\n",
    "\r\n",
    "    # Magnitude array\r\n",
    "    np.array\r\n",
    "\r\n",
    "    \r\n",
    "\r\n",
    "\r\n",
    "\r\n",
    "    \r\n",
    "    \r\n",
    "\r\n",
    "    \r\n",
    "\r\n"
   ],
   "outputs": [
    {
     "output_type": "stream",
     "name": "stdout",
     "text": [
      "[65 68 72]\n",
      "[77 80 84]\n",
      "[53 56 60]\n",
      "[56 60 65]\n",
      "[68 72 77]\n",
      "[44 48 53]\n",
      "[60 65 68]\n",
      "[72 77 80]\n",
      "[48 53 56]\n"
     ]
    }
   ],
   "metadata": {}
  },
  {
   "cell_type": "code",
   "execution_count": 102,
   "source": [
    "splitTest = np.array(chordIntSplit(655690))\r\n",
    "\r\n",
    "print(splitTest)"
   ],
   "outputs": [
    {
     "output_type": "stream",
     "name": "stdout",
     "text": [
      "[65 56 90]\n"
     ]
    }
   ],
   "metadata": {}
  },
  {
   "cell_type": "code",
   "execution_count": 109,
   "source": [
    "inputSplit-destTest\r\n"
   ],
   "outputs": [
    {
     "output_type": "execute_result",
     "data": {
      "text/plain": [
       "array([7, 7, 8])"
      ]
     },
     "metadata": {},
     "execution_count": 109
    }
   ],
   "metadata": {}
  },
  {
   "cell_type": "code",
   "execution_count": null,
   "source": [],
   "outputs": [],
   "metadata": {}
  }
 ],
 "metadata": {
  "orig_nbformat": 4,
  "language_info": {
   "name": "python",
   "version": "3.7.9",
   "mimetype": "text/x-python",
   "codemirror_mode": {
    "name": "ipython",
    "version": 3
   },
   "pygments_lexer": "ipython3",
   "nbconvert_exporter": "python",
   "file_extension": ".py"
  },
  "kernelspec": {
   "name": "python3",
   "display_name": "Python 3.7.9 64-bit"
  },
  "interpreter": {
   "hash": "8edf31b87f67b6ee633ddb88a2a6122a753fb19450459683d0a9ec78e3773dc3"
  }
 },
 "nbformat": 4,
 "nbformat_minor": 2
}